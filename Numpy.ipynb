{
  "nbformat": 4,
  "nbformat_minor": 0,
  "metadata": {
    "colab": {
      "provenance": [],
      "authorship_tag": "ABX9TyPtXwtlc+IV/738MoQcxjEX",
      "include_colab_link": true
    },
    "kernelspec": {
      "name": "python3",
      "display_name": "Python 3"
    },
    "language_info": {
      "name": "python"
    }
  },
  "cells": [
    {
      "cell_type": "markdown",
      "metadata": {
        "id": "view-in-github",
        "colab_type": "text"
      },
      "source": [
        "<a href=\"https://colab.research.google.com/github/20JR1A4443/House/blob/main/Numpy.ipynb\" target=\"_parent\"><img src=\"https://colab.research.google.com/assets/colab-badge.svg\" alt=\"Open In Colab\"/></a>"
      ]
    },
    {
      "cell_type": "code",
      "source": [
        "import numpy as np"
      ],
      "metadata": {
        "id": "YXTWsomsOZSq"
      },
      "execution_count": 1,
      "outputs": []
    },
    {
      "cell_type": "code",
      "execution_count": null,
      "metadata": {
        "colab": {
          "base_uri": "https://localhost:8080/"
        },
        "id": "HH3Ae8eidO1p",
        "outputId": "7163e248-87cc-4c3a-dac1-197609d6122e"
      },
      "outputs": [
        {
          "output_type": "stream",
          "name": "stdout",
          "text": [
            "[1 2 3]\n",
            "[[1.5 2.  3. ]\n",
            " [4.  5.  6. ]]\n",
            "[[[1.5 2.  3. ]\n",
            "  [4.  5.  6. ]]\n",
            "\n",
            " [[3.  2.  1. ]\n",
            "  [4.  5.  6. ]]]\n"
          ]
        }
      ],
      "source": [
        "import numpy as np\n",
        "a = np.array ([1,2,3])\n",
        "b = np.array ([(1.5,2,3), (4,5,6)],dtype = float)\n",
        "c = np.array ([[(1.5,2,3), (4,5,6)],[(3,2,1), (4,5,6)]],dtype = float)\n",
        "print (a)\n",
        "print (b)\n",
        "print (c)"
      ]
    },
    {
      "cell_type": "code",
      "source": [
        "# initial place holders\n",
        "np.zeros ((9,3,4))\n"
      ],
      "metadata": {
        "colab": {
          "base_uri": "https://localhost:8080/"
        },
        "id": "UK1LfyJ4f7Ct",
        "outputId": "f7b49d05-6d20-47e3-dac7-7b01491612ed"
      },
      "execution_count": null,
      "outputs": [
        {
          "output_type": "execute_result",
          "data": {
            "text/plain": [
              "array([[[0., 0., 0., 0.],\n",
              "        [0., 0., 0., 0.],\n",
              "        [0., 0., 0., 0.]],\n",
              "\n",
              "       [[0., 0., 0., 0.],\n",
              "        [0., 0., 0., 0.],\n",
              "        [0., 0., 0., 0.]],\n",
              "\n",
              "       [[0., 0., 0., 0.],\n",
              "        [0., 0., 0., 0.],\n",
              "        [0., 0., 0., 0.]],\n",
              "\n",
              "       [[0., 0., 0., 0.],\n",
              "        [0., 0., 0., 0.],\n",
              "        [0., 0., 0., 0.]],\n",
              "\n",
              "       [[0., 0., 0., 0.],\n",
              "        [0., 0., 0., 0.],\n",
              "        [0., 0., 0., 0.]],\n",
              "\n",
              "       [[0., 0., 0., 0.],\n",
              "        [0., 0., 0., 0.],\n",
              "        [0., 0., 0., 0.]],\n",
              "\n",
              "       [[0., 0., 0., 0.],\n",
              "        [0., 0., 0., 0.],\n",
              "        [0., 0., 0., 0.]],\n",
              "\n",
              "       [[0., 0., 0., 0.],\n",
              "        [0., 0., 0., 0.],\n",
              "        [0., 0., 0., 0.]],\n",
              "\n",
              "       [[0., 0., 0., 0.],\n",
              "        [0., 0., 0., 0.],\n",
              "        [0., 0., 0., 0.]]])"
            ]
          },
          "metadata": {},
          "execution_count": 11
        }
      ]
    },
    {
      "cell_type": "code",
      "source": [
        "np.ones ((2,3,4))"
      ],
      "metadata": {
        "colab": {
          "base_uri": "https://localhost:8080/"
        },
        "id": "IDK-z9Llik2l",
        "outputId": "64775ece-bfd4-449a-8b97-b6822517fd4a"
      },
      "execution_count": null,
      "outputs": [
        {
          "output_type": "execute_result",
          "data": {
            "text/plain": [
              "array([[[1., 1., 1., 1.],\n",
              "        [1., 1., 1., 1.],\n",
              "        [1., 1., 1., 1.]],\n",
              "\n",
              "       [[1., 1., 1., 1.],\n",
              "        [1., 1., 1., 1.],\n",
              "        [1., 1., 1., 1.]]])"
            ]
          },
          "metadata": {},
          "execution_count": 14
        }
      ]
    },
    {
      "cell_type": "code",
      "source": [
        "d = np.arange(10,25,3)\n",
        "print (d)"
      ],
      "metadata": {
        "colab": {
          "base_uri": "https://localhost:8080/"
        },
        "id": "0mHwZ3YKi3uw",
        "outputId": "a53b6bd5-7254-4f42-8c5f-4b6b06843ce2"
      },
      "execution_count": null,
      "outputs": [
        {
          "output_type": "stream",
          "name": "stdout",
          "text": [
            "[10 13 16 19 22]\n"
          ]
        }
      ]
    },
    {
      "cell_type": "code",
      "source": [
        "np.linspace (0,2,99)"
      ],
      "metadata": {
        "colab": {
          "base_uri": "https://localhost:8080/"
        },
        "id": "upQ364m-OVhs",
        "outputId": "20acaf83-ca3c-428b-c287-bd442dcef2a0"
      },
      "execution_count": null,
      "outputs": [
        {
          "output_type": "execute_result",
          "data": {
            "text/plain": [
              "array([0.        , 0.02040816, 0.04081633, 0.06122449, 0.08163265,\n",
              "       0.10204082, 0.12244898, 0.14285714, 0.16326531, 0.18367347,\n",
              "       0.20408163, 0.2244898 , 0.24489796, 0.26530612, 0.28571429,\n",
              "       0.30612245, 0.32653061, 0.34693878, 0.36734694, 0.3877551 ,\n",
              "       0.40816327, 0.42857143, 0.44897959, 0.46938776, 0.48979592,\n",
              "       0.51020408, 0.53061224, 0.55102041, 0.57142857, 0.59183673,\n",
              "       0.6122449 , 0.63265306, 0.65306122, 0.67346939, 0.69387755,\n",
              "       0.71428571, 0.73469388, 0.75510204, 0.7755102 , 0.79591837,\n",
              "       0.81632653, 0.83673469, 0.85714286, 0.87755102, 0.89795918,\n",
              "       0.91836735, 0.93877551, 0.95918367, 0.97959184, 1.        ,\n",
              "       1.02040816, 1.04081633, 1.06122449, 1.08163265, 1.10204082,\n",
              "       1.12244898, 1.14285714, 1.16326531, 1.18367347, 1.20408163,\n",
              "       1.2244898 , 1.24489796, 1.26530612, 1.28571429, 1.30612245,\n",
              "       1.32653061, 1.34693878, 1.36734694, 1.3877551 , 1.40816327,\n",
              "       1.42857143, 1.44897959, 1.46938776, 1.48979592, 1.51020408,\n",
              "       1.53061224, 1.55102041, 1.57142857, 1.59183673, 1.6122449 ,\n",
              "       1.63265306, 1.65306122, 1.67346939, 1.69387755, 1.71428571,\n",
              "       1.73469388, 1.75510204, 1.7755102 , 1.79591837, 1.81632653,\n",
              "       1.83673469, 1.85714286, 1.87755102, 1.89795918, 1.91836735,\n",
              "       1.93877551, 1.95918367, 1.97959184, 2.        ])"
            ]
          },
          "metadata": {},
          "execution_count": 7
        }
      ]
    },
    {
      "cell_type": "code",
      "source": [
        "jai = np.full((6,9),9)\n",
        "print (jai)"
      ],
      "metadata": {
        "colab": {
          "base_uri": "https://localhost:8080/"
        },
        "id": "p7w2jjo7RsHN",
        "outputId": "20672994-3e37-4c91-a9bc-e9eea3dbe8ce"
      },
      "execution_count": null,
      "outputs": [
        {
          "output_type": "stream",
          "name": "stdout",
          "text": [
            "[[9 9 9 9 9 9 9 9 9]\n",
            " [9 9 9 9 9 9 9 9 9]\n",
            " [9 9 9 9 9 9 9 9 9]\n",
            " [9 9 9 9 9 9 9 9 9]\n",
            " [9 9 9 9 9 9 9 9 9]\n",
            " [9 9 9 9 9 9 9 9 9]]\n"
          ]
        }
      ]
    },
    {
      "cell_type": "code",
      "source": [
        "jai = np.full((5,9,9),43)\n",
        "print (jai)"
      ],
      "metadata": {
        "colab": {
          "base_uri": "https://localhost:8080/"
        },
        "id": "dJIWjtuZTowe",
        "outputId": "6bc134ef-508b-4e34-9dd2-59b3225e458d"
      },
      "execution_count": null,
      "outputs": [
        {
          "output_type": "stream",
          "name": "stdout",
          "text": [
            "[[[43 43 43 43 43 43 43 43 43]\n",
            "  [43 43 43 43 43 43 43 43 43]\n",
            "  [43 43 43 43 43 43 43 43 43]\n",
            "  [43 43 43 43 43 43 43 43 43]\n",
            "  [43 43 43 43 43 43 43 43 43]\n",
            "  [43 43 43 43 43 43 43 43 43]\n",
            "  [43 43 43 43 43 43 43 43 43]\n",
            "  [43 43 43 43 43 43 43 43 43]\n",
            "  [43 43 43 43 43 43 43 43 43]]\n",
            "\n",
            " [[43 43 43 43 43 43 43 43 43]\n",
            "  [43 43 43 43 43 43 43 43 43]\n",
            "  [43 43 43 43 43 43 43 43 43]\n",
            "  [43 43 43 43 43 43 43 43 43]\n",
            "  [43 43 43 43 43 43 43 43 43]\n",
            "  [43 43 43 43 43 43 43 43 43]\n",
            "  [43 43 43 43 43 43 43 43 43]\n",
            "  [43 43 43 43 43 43 43 43 43]\n",
            "  [43 43 43 43 43 43 43 43 43]]\n",
            "\n",
            " [[43 43 43 43 43 43 43 43 43]\n",
            "  [43 43 43 43 43 43 43 43 43]\n",
            "  [43 43 43 43 43 43 43 43 43]\n",
            "  [43 43 43 43 43 43 43 43 43]\n",
            "  [43 43 43 43 43 43 43 43 43]\n",
            "  [43 43 43 43 43 43 43 43 43]\n",
            "  [43 43 43 43 43 43 43 43 43]\n",
            "  [43 43 43 43 43 43 43 43 43]\n",
            "  [43 43 43 43 43 43 43 43 43]]\n",
            "\n",
            " [[43 43 43 43 43 43 43 43 43]\n",
            "  [43 43 43 43 43 43 43 43 43]\n",
            "  [43 43 43 43 43 43 43 43 43]\n",
            "  [43 43 43 43 43 43 43 43 43]\n",
            "  [43 43 43 43 43 43 43 43 43]\n",
            "  [43 43 43 43 43 43 43 43 43]\n",
            "  [43 43 43 43 43 43 43 43 43]\n",
            "  [43 43 43 43 43 43 43 43 43]\n",
            "  [43 43 43 43 43 43 43 43 43]]\n",
            "\n",
            " [[43 43 43 43 43 43 43 43 43]\n",
            "  [43 43 43 43 43 43 43 43 43]\n",
            "  [43 43 43 43 43 43 43 43 43]\n",
            "  [43 43 43 43 43 43 43 43 43]\n",
            "  [43 43 43 43 43 43 43 43 43]\n",
            "  [43 43 43 43 43 43 43 43 43]\n",
            "  [43 43 43 43 43 43 43 43 43]\n",
            "  [43 43 43 43 43 43 43 43 43]\n",
            "  [43 43 43 43 43 43 43 43 43]]]\n"
          ]
        }
      ]
    },
    {
      "cell_type": "code",
      "source": [
        "jai = np.eye(9)\n",
        "print (jai)"
      ],
      "metadata": {
        "colab": {
          "base_uri": "https://localhost:8080/"
        },
        "id": "ICXW8ZqZUBpm",
        "outputId": "70463814-466d-4053-bd83-e7ec274c617c"
      },
      "execution_count": null,
      "outputs": [
        {
          "output_type": "stream",
          "name": "stdout",
          "text": [
            "[[1. 0. 0. 0. 0. 0. 0. 0. 0.]\n",
            " [0. 1. 0. 0. 0. 0. 0. 0. 0.]\n",
            " [0. 0. 1. 0. 0. 0. 0. 0. 0.]\n",
            " [0. 0. 0. 1. 0. 0. 0. 0. 0.]\n",
            " [0. 0. 0. 0. 1. 0. 0. 0. 0.]\n",
            " [0. 0. 0. 0. 0. 1. 0. 0. 0.]\n",
            " [0. 0. 0. 0. 0. 0. 1. 0. 0.]\n",
            " [0. 0. 0. 0. 0. 0. 0. 1. 0.]\n",
            " [0. 0. 0. 0. 0. 0. 0. 0. 1.]]\n"
          ]
        }
      ]
    },
    {
      "cell_type": "code",
      "source": [
        "np.random.random((2,5,6))"
      ],
      "metadata": {
        "colab": {
          "base_uri": "https://localhost:8080/"
        },
        "id": "2eChTfASVtsx",
        "outputId": "7b1dbf9d-54f9-4122-880d-7897af272361"
      },
      "execution_count": null,
      "outputs": [
        {
          "output_type": "execute_result",
          "data": {
            "text/plain": [
              "array([[[0.75164298, 0.05103648, 0.96335373, 0.73146218, 0.59766808,\n",
              "         0.22814275],\n",
              "        [0.17550778, 0.87583048, 0.98849951, 0.31537434, 0.35857278,\n",
              "         0.94480697],\n",
              "        [0.13626585, 0.18401776, 0.41100545, 0.87594846, 0.29881209,\n",
              "         0.57183544],\n",
              "        [0.02011399, 0.56691283, 0.25487023, 0.89736732, 0.25004101,\n",
              "         0.29832732],\n",
              "        [0.01218814, 0.17201366, 0.96652939, 0.7528144 , 0.96038509,\n",
              "         0.21335414]],\n",
              "\n",
              "       [[0.82695968, 0.00538294, 0.40774234, 0.27627585, 0.31502847,\n",
              "         0.80077103],\n",
              "        [0.0053402 , 0.87838587, 0.7120968 , 0.0126604 , 0.55688435,\n",
              "         0.3219885 ],\n",
              "        [0.01530585, 0.84015481, 0.17797107, 0.58264683, 0.8999153 ,\n",
              "         0.28882418],\n",
              "        [0.42815887, 0.61472565, 0.59417607, 0.21152511, 0.94300801,\n",
              "         0.4891965 ],\n",
              "        [0.19074422, 0.76370663, 0.19373589, 0.26910407, 0.96862327,\n",
              "         0.70318762]]])"
            ]
          },
          "metadata": {},
          "execution_count": 12
        }
      ]
    },
    {
      "cell_type": "code",
      "source": [
        "# to find shape of an array\n",
        "arr = np.array([[1,2,3],\n",
        "              [4,5,6],\n",
        "              [7,8,9]])\n",
        "print(arr.shape)"
      ],
      "metadata": {
        "colab": {
          "base_uri": "https://localhost:8080/"
        },
        "id": "yg1Ea6vVdaJB",
        "outputId": "31a16b27-5000-4df8-e8c3-f9bafc777474"
      },
      "execution_count": 15,
      "outputs": [
        {
          "output_type": "stream",
          "name": "stdout",
          "text": [
            "(3, 3)\n"
          ]
        }
      ]
    },
    {
      "cell_type": "code",
      "source": [
        "# to find number of elements in array\n",
        "jai = np.array([[1,2,3],\n",
        "                [4,5,6],\n",
        "                [1,2,1]])\n",
        "print(jai.size)"
      ],
      "metadata": {
        "colab": {
          "base_uri": "https://localhost:8080/"
        },
        "id": "qoWxvkHBfAHn",
        "outputId": "85b37428-1416-4b76-ea85-aa6dc4842bd1"
      },
      "execution_count": 16,
      "outputs": [
        {
          "output_type": "stream",
          "name": "stdout",
          "text": [
            "9\n"
          ]
        }
      ]
    },
    {
      "cell_type": "code",
      "source": [
        "# to find length of an array\n",
        "jai = np.array([[1,2,3],\n",
        "                [4,5,6],\n",
        "                [1,2,1]])\n",
        "print(len(jai))"
      ],
      "metadata": {
        "colab": {
          "base_uri": "https://localhost:8080/"
        },
        "id": "ALHuDUlifvD_",
        "outputId": "40016f58-54cc-4f1f-d66f-5a57b3c79e5c"
      },
      "execution_count": 17,
      "outputs": [
        {
          "output_type": "stream",
          "name": "stdout",
          "text": [
            "3\n"
          ]
        }
      ]
    },
    {
      "cell_type": "code",
      "source": [
        "# Access array elements\n",
        "arr = np.array ([1,2,3,4])\n",
        "print(arr[2])"
      ],
      "metadata": {
        "colab": {
          "base_uri": "https://localhost:8080/"
        },
        "id": "Cf_VIgoZgKbc",
        "outputId": "01e34632-318d-43b3-9708-290903686f5e"
      },
      "execution_count": 3,
      "outputs": [
        {
          "output_type": "stream",
          "name": "stdout",
          "text": [
            "3\n"
          ]
        }
      ]
    },
    {
      "cell_type": "code",
      "source": [
        "# adding two index position\n",
        "arr = np.array ([1,1,1,2,2,2,3,4,5])\n",
        "print(arr[5]+arr[7]-arr[4])"
      ],
      "metadata": {
        "colab": {
          "base_uri": "https://localhost:8080/"
        },
        "id": "6FV1x5O4axVm",
        "outputId": "5e9647fd-1351-4fed-b954-cb086a3196fb"
      },
      "execution_count": 4,
      "outputs": [
        {
          "output_type": "stream",
          "name": "stdout",
          "text": [
            "4\n"
          ]
        }
      ]
    },
    {
      "cell_type": "code",
      "source": [
        "arr = np.array ([[1,2,3,4,5],\n",
        "                 [6,7,8,9,10],\n",
        "                 [6,7,5,9,10],\n",
        "                 [6,7,8,9,1]])\n",
        "print(arr[3,4])"
      ],
      "metadata": {
        "colab": {
          "base_uri": "https://localhost:8080/"
        },
        "id": "qPmy5t0pbxJh",
        "outputId": "3f6e8b6d-175d-4ed1-bd4e-65e54fd63726"
      },
      "execution_count": 6,
      "outputs": [
        {
          "output_type": "stream",
          "name": "stdout",
          "text": [
            "1\n"
          ]
        }
      ]
    },
    {
      "cell_type": "code",
      "source": [
        "arr = np.array([[[1,2,3],[4,5,6]],\n",
        "                 [[7,8,9],[10,11,12]],\n",
        "                 [[13,14,15],[16,17,18]]])\n",
        "print(arr[1,1,1])"
      ],
      "metadata": {
        "colab": {
          "base_uri": "https://localhost:8080/"
        },
        "id": "_UGDPVULd8mt",
        "outputId": "1385dadf-5ff1-4fdb-a106-b55752f5e8b3"
      },
      "execution_count": 13,
      "outputs": [
        {
          "output_type": "stream",
          "name": "stdout",
          "text": [
            "11\n"
          ]
        }
      ]
    },
    {
      "cell_type": "code",
      "source": [
        "arr = np.array ([1,2,3],dtype='S')\n",
        "print(arr)\n",
        "print(arr.dtype)"
      ],
      "metadata": {
        "colab": {
          "base_uri": "https://localhost:8080/"
        },
        "id": "7qwvzJCmgZwY",
        "outputId": "78174cb6-49b2-4663-b581-86bf93bbbbac"
      },
      "execution_count": 15,
      "outputs": [
        {
          "output_type": "stream",
          "name": "stdout",
          "text": [
            "[b'1' b'2' b'3']\n",
            "|S1\n"
          ]
        }
      ]
    },
    {
      "cell_type": "code",
      "source": [
        "arr = np.array ([1,9,2,5],dtype='i')\n",
        "print(arr)\n",
        "print(arr.dtype)"
      ],
      "metadata": {
        "colab": {
          "base_uri": "https://localhost:8080/"
        },
        "id": "PGSIzRNCimrK",
        "outputId": "cc54475f-229e-41e3-da95-bbe29c0c692a"
      },
      "execution_count": 17,
      "outputs": [
        {
          "output_type": "stream",
          "name": "stdout",
          "text": [
            "[1 9 2 5]\n",
            "int32\n"
          ]
        }
      ]
    },
    {
      "cell_type": "code",
      "source": [
        "arr = np.array ([1.1,2.5,3.8],dtype='i')\n",
        "print(arr)\n",
        "print(arr.dtype)"
      ],
      "metadata": {
        "colab": {
          "base_uri": "https://localhost:8080/"
        },
        "id": "b-xE-8mxjnUn",
        "outputId": "bb575dff-5838-4417-e1ba-526db0be4775"
      },
      "execution_count": 18,
      "outputs": [
        {
          "output_type": "stream",
          "name": "stdout",
          "text": [
            "[1 2 3]\n",
            "int32\n"
          ]
        }
      ]
    },
    {
      "cell_type": "code",
      "source": [
        "arr = np.array ([1,0,6,7],dtype='bool')\n",
        "print(arr)\n",
        "print(arr.dtype)"
      ],
      "metadata": {
        "colab": {
          "base_uri": "https://localhost:8080/"
        },
        "id": "ynFHny18kNlz",
        "outputId": "5db87171-24d1-4a4e-a605-d5d61b0dfe79"
      },
      "execution_count": 21,
      "outputs": [
        {
          "output_type": "stream",
          "name": "stdout",
          "text": [
            "[ True False  True  True]\n",
            "bool\n"
          ]
        }
      ]
    },
    {
      "cell_type": "code",
      "source": [
        "arr = np.array([11,99,22,88,55])\n",
        "jai= arr.copy()\n",
        "arr[0]=111\n",
        "print(arr)\n",
        "print(jai)\n"
      ],
      "metadata": {
        "colab": {
          "base_uri": "https://localhost:8080/"
        },
        "id": "givotPxEktv-",
        "outputId": "3aa60ffe-3688-41ce-8183-292fde605c3d"
      },
      "execution_count": 22,
      "outputs": [
        {
          "output_type": "stream",
          "name": "stdout",
          "text": [
            "[111  99  22  88  55]\n",
            "[11 99 22 88 55]\n"
          ]
        }
      ]
    },
    {
      "cell_type": "code",
      "source": [
        "arr = np.array([11,99,22,88,55])\n",
        "jai= arr.view()\n",
        "arr[0]=43\n",
        "print(arr)\n",
        "print(jai)"
      ],
      "metadata": {
        "colab": {
          "base_uri": "https://localhost:8080/"
        },
        "id": "FU_ir5j1mVP-",
        "outputId": "7d739a61-c0ed-4680-9041-3bb12e92e252"
      },
      "execution_count": 23,
      "outputs": [
        {
          "output_type": "stream",
          "name": "stdout",
          "text": [
            "[43 99 22 88 55]\n",
            "[43 99 22 88 55]\n"
          ]
        }
      ]
    },
    {
      "cell_type": "code",
      "source": [
        "arr = np.array([[12,13,22,35],\n",
        "               [1,2,3,4]])\n",
        "print(arr.shape)"
      ],
      "metadata": {
        "colab": {
          "base_uri": "https://localhost:8080/"
        },
        "id": "BsrJcla-mhzJ",
        "outputId": "8d84c96f-f778-4a5e-a897-f517276a9763"
      },
      "execution_count": 26,
      "outputs": [
        {
          "output_type": "stream",
          "name": "stdout",
          "text": [
            "(2, 4)\n"
          ]
        }
      ]
    },
    {
      "cell_type": "code",
      "source": [
        "# Reshaping arrays\n",
        "arr = np.array([1,2,3,4,5,6,7,8,9,10,11,12])\n",
        "print(arr.size)\n",
        "newarr=arr.reshape(2,6)\n",
        "print(newarr)"
      ],
      "metadata": {
        "colab": {
          "base_uri": "https://localhost:8080/"
        },
        "id": "JYC_d57BnQYV",
        "outputId": "2120e249-4974-4995-ee7e-b8288c3aec02"
      },
      "execution_count": 29,
      "outputs": [
        {
          "output_type": "stream",
          "name": "stdout",
          "text": [
            "12\n",
            "[[ 1  2  3  4  5  6]\n",
            " [ 7  8  9 10 11 12]]\n"
          ]
        }
      ]
    },
    {
      "cell_type": "code",
      "source": [
        "arr = np.array([1,2,3,4,5,6,7,8,9,10,11,12])\n",
        "newarr=arr.reshape(2,2,3)\n",
        "print(newarr)"
      ],
      "metadata": {
        "colab": {
          "base_uri": "https://localhost:8080/"
        },
        "id": "buDKDwTNqt5f",
        "outputId": "b97cc8a0-ecac-45f9-9763-4b4834d146e1"
      },
      "execution_count": 31,
      "outputs": [
        {
          "output_type": "stream",
          "name": "stdout",
          "text": [
            "[[[ 1  2  3]\n",
            "  [ 4  5  6]]\n",
            "\n",
            " [[ 7  8  9]\n",
            "  [10 11 12]]]\n"
          ]
        }
      ]
    },
    {
      "cell_type": "code",
      "source": [
        "x = np.array([[1,2],[3,4]],dtype=np.float64)\n",
        "y = np.array([[5,6],[7,8]],dtype=np.float64)\n"
      ],
      "metadata": {
        "id": "WuOX-lrDvGyh"
      },
      "execution_count": 2,
      "outputs": []
    },
    {
      "cell_type": "code",
      "source": [
        "print(x+y)\n",
        "print(np.add(x,y))"
      ],
      "metadata": {
        "colab": {
          "base_uri": "https://localhost:8080/"
        },
        "id": "rRB5JlbODbcq",
        "outputId": "e957e9ec-765f-4b54-e8af-bfd737af55e7"
      },
      "execution_count": 3,
      "outputs": [
        {
          "output_type": "stream",
          "name": "stdout",
          "text": [
            "[[ 6.  8.]\n",
            " [10. 12.]]\n",
            "[[ 6.  8.]\n",
            " [10. 12.]]\n"
          ]
        }
      ]
    },
    {
      "cell_type": "code",
      "source": [
        "print(x-y)\n",
        "print(np.subtract(x,y))"
      ],
      "metadata": {
        "colab": {
          "base_uri": "https://localhost:8080/"
        },
        "id": "iVrbzUESDnxg",
        "outputId": "ecba8583-9202-4292-967e-3172553fcf3c"
      },
      "execution_count": 5,
      "outputs": [
        {
          "output_type": "stream",
          "name": "stdout",
          "text": [
            "[[-4. -4.]\n",
            " [-4. -4.]]\n",
            "[[-4. -4.]\n",
            " [-4. -4.]]\n"
          ]
        }
      ]
    },
    {
      "cell_type": "code",
      "source": [
        "print(x*y)\n",
        "print(np.multiply(x,y))"
      ],
      "metadata": {
        "colab": {
          "base_uri": "https://localhost:8080/"
        },
        "id": "iALDxryqERbm",
        "outputId": "8da1882c-eb09-48fe-80cb-07d6e07b0d72"
      },
      "execution_count": 6,
      "outputs": [
        {
          "output_type": "stream",
          "name": "stdout",
          "text": [
            "[[ 5. 12.]\n",
            " [21. 32.]]\n",
            "[[ 5. 12.]\n",
            " [21. 32.]]\n"
          ]
        }
      ]
    },
    {
      "cell_type": "code",
      "source": [
        "print(x/y)\n",
        "print(np.divide(x,y))"
      ],
      "metadata": {
        "colab": {
          "base_uri": "https://localhost:8080/"
        },
        "id": "44dDt1-TEXkt",
        "outputId": "cd1b531d-5181-402e-9f55-a10efd2b5a99"
      },
      "execution_count": 7,
      "outputs": [
        {
          "output_type": "stream",
          "name": "stdout",
          "text": [
            "[[0.2        0.33333333]\n",
            " [0.42857143 0.5       ]]\n",
            "[[0.2        0.33333333]\n",
            " [0.42857143 0.5       ]]\n"
          ]
        }
      ]
    },
    {
      "cell_type": "code",
      "source": [
        "print(x%y)\n",
        "print(np.remainder(x,y))"
      ],
      "metadata": {
        "colab": {
          "base_uri": "https://localhost:8080/"
        },
        "id": "H-0JDKT7Ef2E",
        "outputId": "52ed7fca-d82d-4714-b229-4140b1f7504e"
      },
      "execution_count": 8,
      "outputs": [
        {
          "output_type": "stream",
          "name": "stdout",
          "text": [
            "[[1. 2.]\n",
            " [3. 4.]]\n",
            "[[1. 2.]\n",
            " [3. 4.]]\n"
          ]
        }
      ]
    },
    {
      "cell_type": "code",
      "source": [
        "print(x%y)\n",
        "print(np.remainder(x,y))"
      ],
      "metadata": {
        "colab": {
          "base_uri": "https://localhost:8080/"
        },
        "id": "MPj__vPREoXS",
        "outputId": "1858bd5a-6b7d-4720-9b80-8813b1883614"
      },
      "execution_count": 9,
      "outputs": [
        {
          "output_type": "stream",
          "name": "stdout",
          "text": [
            "[[0. 0.]\n",
            " [0. 0.]]\n",
            "[[0. 0.]\n",
            " [0. 0.]]\n"
          ]
        }
      ]
    },
    {
      "cell_type": "code",
      "source": [
        "print(x**y)\n",
        "print(np.exponetial(x,y))"
      ],
      "metadata": {
        "colab": {
          "base_uri": "https://localhost:8080/",
          "height": 315
        },
        "id": "-0wlzTKkE2qv",
        "outputId": "78d62409-ed3c-4592-b236-4ca3d65b98ba"
      },
      "execution_count": 11,
      "outputs": [
        {
          "output_type": "stream",
          "name": "stdout",
          "text": [
            "[[1.0000e+00 6.4000e+01]\n",
            " [2.1870e+03 6.5536e+04]]\n"
          ]
        },
        {
          "output_type": "error",
          "ename": "AttributeError",
          "evalue": "module 'numpy' has no attribute 'exponetial'",
          "traceback": [
            "\u001b[0;31m---------------------------------------------------------------------------\u001b[0m",
            "\u001b[0;31mAttributeError\u001b[0m                            Traceback (most recent call last)",
            "\u001b[0;32m<ipython-input-11-709508a61cb8>\u001b[0m in \u001b[0;36m<cell line: 2>\u001b[0;34m()\u001b[0m\n\u001b[1;32m      1\u001b[0m \u001b[0mprint\u001b[0m\u001b[0;34m(\u001b[0m\u001b[0mx\u001b[0m\u001b[0;34m**\u001b[0m\u001b[0my\u001b[0m\u001b[0;34m)\u001b[0m\u001b[0;34m\u001b[0m\u001b[0;34m\u001b[0m\u001b[0m\n\u001b[0;32m----> 2\u001b[0;31m \u001b[0mprint\u001b[0m\u001b[0;34m(\u001b[0m\u001b[0mnp\u001b[0m\u001b[0;34m.\u001b[0m\u001b[0mexponetial\u001b[0m\u001b[0;34m(\u001b[0m\u001b[0mx\u001b[0m\u001b[0;34m,\u001b[0m\u001b[0my\u001b[0m\u001b[0;34m)\u001b[0m\u001b[0;34m)\u001b[0m\u001b[0;34m\u001b[0m\u001b[0;34m\u001b[0m\u001b[0m\n\u001b[0m",
            "\u001b[0;32m/usr/local/lib/python3.10/dist-packages/numpy/__init__.py\u001b[0m in \u001b[0;36m__getattr__\u001b[0;34m(attr)\u001b[0m\n\u001b[1;32m    331\u001b[0m             \u001b[0;32mraise\u001b[0m \u001b[0mRuntimeError\u001b[0m\u001b[0;34m(\u001b[0m\u001b[0;34m\"Tester was removed in NumPy 1.25.\"\u001b[0m\u001b[0;34m)\u001b[0m\u001b[0;34m\u001b[0m\u001b[0;34m\u001b[0m\u001b[0m\n\u001b[1;32m    332\u001b[0m \u001b[0;34m\u001b[0m\u001b[0m\n\u001b[0;32m--> 333\u001b[0;31m         raise AttributeError(\"module {!r} has no attribute \"\n\u001b[0m\u001b[1;32m    334\u001b[0m                              \"{!r}\".format(__name__, attr))\n\u001b[1;32m    335\u001b[0m \u001b[0;34m\u001b[0m\u001b[0m\n",
            "\u001b[0;31mAttributeError\u001b[0m: module 'numpy' has no attribute 'exponetial'"
          ]
        }
      ]
    },
    {
      "cell_type": "code",
      "source": [
        "x = np.array([[1,2],[3,4],\n",
        "              [5,6],[7,8]])\n",
        "y = np.array([[15,16],[17,18],\n",
        "              [11,12],[13,14]])\n"
      ],
      "metadata": {
        "id": "GpjZq4AnFK3a"
      },
      "execution_count": 13,
      "outputs": []
    },
    {
      "cell_type": "code",
      "source": [
        "print(x+y)\n",
        "print(np.add(x,y))"
      ],
      "metadata": {
        "colab": {
          "base_uri": "https://localhost:8080/"
        },
        "id": "spri1E_2GAy7",
        "outputId": "e738e868-8c56-4d13-faa6-85b75675efbb"
      },
      "execution_count": 14,
      "outputs": [
        {
          "output_type": "stream",
          "name": "stdout",
          "text": [
            "[[16 18]\n",
            " [20 22]\n",
            " [16 18]\n",
            " [20 22]]\n",
            "[[16 18]\n",
            " [20 22]\n",
            " [16 18]\n",
            " [20 22]]\n"
          ]
        }
      ]
    },
    {
      "cell_type": "code",
      "source": [
        "print(x-y)\n",
        "print(np.subtract(x,y))"
      ],
      "metadata": {
        "colab": {
          "base_uri": "https://localhost:8080/"
        },
        "id": "TGT_t_q-GJh6",
        "outputId": "4dc42e18-4978-4708-f2af-021470b96845"
      },
      "execution_count": 15,
      "outputs": [
        {
          "output_type": "stream",
          "name": "stdout",
          "text": [
            "[[-14 -14]\n",
            " [-14 -14]\n",
            " [ -6  -6]\n",
            " [ -6  -6]]\n",
            "[[-14 -14]\n",
            " [-14 -14]\n",
            " [ -6  -6]\n",
            " [ -6  -6]]\n"
          ]
        }
      ]
    },
    {
      "cell_type": "code",
      "source": [
        "print(x*y)\n",
        "print(np.multiply(x,y))"
      ],
      "metadata": {
        "colab": {
          "base_uri": "https://localhost:8080/"
        },
        "id": "OHHTqdz7GPPl",
        "outputId": "f7158407-70ee-4a3a-e3bb-9037d5d8b826"
      },
      "execution_count": 16,
      "outputs": [
        {
          "output_type": "stream",
          "name": "stdout",
          "text": [
            "[[ 15  32]\n",
            " [ 51  72]\n",
            " [ 55  72]\n",
            " [ 91 112]]\n",
            "[[ 15  32]\n",
            " [ 51  72]\n",
            " [ 55  72]\n",
            " [ 91 112]]\n"
          ]
        }
      ]
    },
    {
      "cell_type": "code",
      "source": [
        "print(x/y)\n",
        "print(np.divide(x,y))"
      ],
      "metadata": {
        "colab": {
          "base_uri": "https://localhost:8080/"
        },
        "id": "cg6dqAbkGPDS",
        "outputId": "a2c0861c-70b2-46b6-b097-c4e9ec3c22ff"
      },
      "execution_count": 17,
      "outputs": [
        {
          "output_type": "stream",
          "name": "stdout",
          "text": [
            "[[0.06666667 0.125     ]\n",
            " [0.17647059 0.22222222]\n",
            " [0.45454545 0.5       ]\n",
            " [0.53846154 0.57142857]]\n",
            "[[0.06666667 0.125     ]\n",
            " [0.17647059 0.22222222]\n",
            " [0.45454545 0.5       ]\n",
            " [0.53846154 0.57142857]]\n"
          ]
        }
      ]
    },
    {
      "cell_type": "code",
      "source": [
        "print(x%y)\n",
        "print(np.remainder(x,y))"
      ],
      "metadata": {
        "colab": {
          "base_uri": "https://localhost:8080/"
        },
        "id": "jWDGTIAAGO_H",
        "outputId": "fdd5d302-b450-4916-d147-67058722876a"
      },
      "execution_count": 18,
      "outputs": [
        {
          "output_type": "stream",
          "name": "stdout",
          "text": [
            "[[1 2]\n",
            " [3 4]\n",
            " [5 6]\n",
            " [7 8]]\n",
            "[[1 2]\n",
            " [3 4]\n",
            " [5 6]\n",
            " [7 8]]\n"
          ]
        }
      ]
    },
    {
      "cell_type": "code",
      "source": [
        "print(x**y)\n",
        "print(np.exponetial(x,y))"
      ],
      "metadata": {
        "colab": {
          "base_uri": "https://localhost:8080/",
          "height": 349
        },
        "id": "04xBilECGUwL",
        "outputId": "c2944c2b-98fc-4595-d366-48334689e190"
      },
      "execution_count": 19,
      "outputs": [
        {
          "output_type": "stream",
          "name": "stdout",
          "text": [
            "[[            1         65536]\n",
            " [    129140163   68719476736]\n",
            " [     48828125    2176782336]\n",
            " [  96889010407 4398046511104]]\n"
          ]
        },
        {
          "output_type": "error",
          "ename": "AttributeError",
          "evalue": "module 'numpy' has no attribute 'exponetial'",
          "traceback": [
            "\u001b[0;31m---------------------------------------------------------------------------\u001b[0m",
            "\u001b[0;31mAttributeError\u001b[0m                            Traceback (most recent call last)",
            "\u001b[0;32m<ipython-input-19-709508a61cb8>\u001b[0m in \u001b[0;36m<cell line: 2>\u001b[0;34m()\u001b[0m\n\u001b[1;32m      1\u001b[0m \u001b[0mprint\u001b[0m\u001b[0;34m(\u001b[0m\u001b[0mx\u001b[0m\u001b[0;34m**\u001b[0m\u001b[0my\u001b[0m\u001b[0;34m)\u001b[0m\u001b[0;34m\u001b[0m\u001b[0;34m\u001b[0m\u001b[0m\n\u001b[0;32m----> 2\u001b[0;31m \u001b[0mprint\u001b[0m\u001b[0;34m(\u001b[0m\u001b[0mnp\u001b[0m\u001b[0;34m.\u001b[0m\u001b[0mexponetial\u001b[0m\u001b[0;34m(\u001b[0m\u001b[0mx\u001b[0m\u001b[0;34m,\u001b[0m\u001b[0my\u001b[0m\u001b[0;34m)\u001b[0m\u001b[0;34m)\u001b[0m\u001b[0;34m\u001b[0m\u001b[0;34m\u001b[0m\u001b[0m\n\u001b[0m",
            "\u001b[0;32m/usr/local/lib/python3.10/dist-packages/numpy/__init__.py\u001b[0m in \u001b[0;36m__getattr__\u001b[0;34m(attr)\u001b[0m\n\u001b[1;32m    331\u001b[0m             \u001b[0;32mraise\u001b[0m \u001b[0mRuntimeError\u001b[0m\u001b[0;34m(\u001b[0m\u001b[0;34m\"Tester was removed in NumPy 1.25.\"\u001b[0m\u001b[0;34m)\u001b[0m\u001b[0;34m\u001b[0m\u001b[0;34m\u001b[0m\u001b[0m\n\u001b[1;32m    332\u001b[0m \u001b[0;34m\u001b[0m\u001b[0m\n\u001b[0;32m--> 333\u001b[0;31m         raise AttributeError(\"module {!r} has no attribute \"\n\u001b[0m\u001b[1;32m    334\u001b[0m                              \"{!r}\".format(__name__, attr))\n\u001b[1;32m    335\u001b[0m \u001b[0;34m\u001b[0m\u001b[0m\n",
            "\u001b[0;31mAttributeError\u001b[0m: module 'numpy' has no attribute 'exponetial'"
          ]
        }
      ]
    }
  ]
}