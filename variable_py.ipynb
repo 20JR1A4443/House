{
  "nbformat": 4,
  "nbformat_minor": 0,
  "metadata": {
    "colab": {
      "provenance": [],
      "include_colab_link": true
    },
    "kernelspec": {
      "name": "python3",
      "display_name": "Python 3"
    },
    "language_info": {
      "name": "python"
    }
  },
  "cells": [
    {
      "cell_type": "markdown",
      "metadata": {
        "id": "view-in-github",
        "colab_type": "text"
      },
      "source": [
        "<a href=\"https://colab.research.google.com/github/20JR1A4443/House/blob/main/variable_py.ipynb\" target=\"_parent\"><img src=\"https://colab.research.google.com/assets/colab-badge.svg\" alt=\"Open In Colab\"/></a>"
      ]
    },
    {
      "cell_type": "code",
      "execution_count": null,
      "metadata": {
        "colab": {
          "base_uri": "https://localhost:8080/"
        },
        "id": "mnSbdrlHcKtI",
        "outputId": "0da88206-4faa-4d6f-c189-7bc37164eb34"
      },
      "outputs": [
        {
          "output_type": "stream",
          "name": "stdout",
          "text": [
            "1\n"
          ]
        }
      ],
      "source": [
        " var = 1\n",
        " print(var)"
      ]
    },
    {
      "cell_type": "code",
      "source": [
        "VARIABLES = 123\n",
        "a18273645_16579 = 6666"
      ],
      "metadata": {
        "id": "OAhr6s5KhLcr"
      },
      "execution_count": null,
      "outputs": []
    },
    {
      "cell_type": "code",
      "source": [
        "_var123 = 9963\n",
        "Var_1a2d3c456def = 2"
      ],
      "metadata": {
        "id": "5OdlX5-PiXyL"
      },
      "execution_count": null,
      "outputs": []
    },
    {
      "cell_type": "code",
      "source": [
        "var_abc = 738"
      ],
      "metadata": {
        "id": "nOqsQbpVif4f"
      },
      "execution_count": null,
      "outputs": []
    },
    {
      "cell_type": "code",
      "source": [
        "V_abcd = 665"
      ],
      "metadata": {
        "id": "8q2dcMn7inlS"
      },
      "execution_count": null,
      "outputs": []
    },
    {
      "cell_type": "code",
      "source": [
        "ABC_1_ = 453"
      ],
      "metadata": {
        "id": "p0O3rvg-iynf"
      },
      "execution_count": null,
      "outputs": []
    },
    {
      "cell_type": "code",
      "source": [
        "V_A_R = 908"
      ],
      "metadata": {
        "id": "yIAbKp5Hizrk"
      },
      "execution_count": null,
      "outputs": []
    },
    {
      "cell_type": "code",
      "source": [
        "V123_V = 9999\n",
        "abcdfegfjyurhkhhjhgk_1226477t = 73866"
      ],
      "metadata": {
        "id": "qEvIPZp-i0BO"
      },
      "execution_count": null,
      "outputs": []
    },
    {
      "cell_type": "code",
      "source": [
        "_____123 = 3\n",
        "aVAR1 = 43"
      ],
      "metadata": {
        "id": "Yoytjx6Gi0Iz"
      },
      "execution_count": null,
      "outputs": []
    },
    {
      "cell_type": "code",
      "source": [
        "z11111 = 3\n",
        "abc_111 = 91"
      ],
      "metadata": {
        "id": "SnjyNhaRkK-t"
      },
      "execution_count": null,
      "outputs": []
    },
    {
      "cell_type": "code",
      "source": [
        "VAR_123! = 128"
      ],
      "metadata": {
        "colab": {
          "base_uri": "https://localhost:8080/",
          "height": 106
        },
        "id": "yt2_ZjwzlV5s",
        "outputId": "9d653c45-1bbb-42f0-d237-cc92c110350c"
      },
      "execution_count": null,
      "outputs": [
        {
          "output_type": "error",
          "ename": "SyntaxError",
          "evalue": "invalid syntax (<ipython-input-27-145bffc850bc>, line 1)",
          "traceback": [
            "\u001b[0;36m  File \u001b[0;32m\"<ipython-input-27-145bffc850bc>\"\u001b[0;36m, line \u001b[0;32m1\u001b[0m\n\u001b[0;31m    VAR_123! = 128\u001b[0m\n\u001b[0m           ^\u001b[0m\n\u001b[0;31mSyntaxError\u001b[0m\u001b[0;31m:\u001b[0m invalid syntax\n"
          ]
        }
      ]
    },
    {
      "cell_type": "code",
      "source": [
        "VAR_111 = 1986\n",
        "_ edg = 996"
      ],
      "metadata": {
        "colab": {
          "base_uri": "https://localhost:8080/",
          "height": 106
        },
        "id": "VmxNOE9wnZXZ",
        "outputId": "42d7efed-fdbf-4e64-ebf6-01fbe73a8606"
      },
      "execution_count": null,
      "outputs": [
        {
          "output_type": "error",
          "ename": "SyntaxError",
          "evalue": "invalid syntax (<ipython-input-28-5b3b19585c72>, line 2)",
          "traceback": [
            "\u001b[0;36m  File \u001b[0;32m\"<ipython-input-28-5b3b19585c72>\"\u001b[0;36m, line \u001b[0;32m2\u001b[0m\n\u001b[0;31m    _ edg = 996\u001b[0m\n\u001b[0m      ^\u001b[0m\n\u001b[0;31mSyntaxError\u001b[0m\u001b[0;31m:\u001b[0m invalid syntax\n"
          ]
        }
      ]
    },
    {
      "cell_type": "code",
      "source": [
        "_Var_ 12 = 14222366\n",
        "vaoljj_1223 = 112086"
      ],
      "metadata": {
        "colab": {
          "base_uri": "https://localhost:8080/",
          "height": 106
        },
        "id": "lsQ7W5hZnZhn",
        "outputId": "64ee466b-fe62-48c7-9bab-6f1e10ff02fc"
      },
      "execution_count": null,
      "outputs": [
        {
          "output_type": "error",
          "ename": "SyntaxError",
          "evalue": "invalid syntax (<ipython-input-29-6786921ba602>, line 1)",
          "traceback": [
            "\u001b[0;36m  File \u001b[0;32m\"<ipython-input-29-6786921ba602>\"\u001b[0;36m, line \u001b[0;32m1\u001b[0m\n\u001b[0;31m    _Var_ 12 = 14222366\u001b[0m\n\u001b[0m          ^\u001b[0m\n\u001b[0;31mSyntaxError\u001b[0m\u001b[0;31m:\u001b[0m invalid syntax\n"
          ]
        }
      ]
    },
    {
      "cell_type": "code",
      "source": [
        "Var1_var2 = a12234\n",
        "var_11 = 123"
      ],
      "metadata": {
        "colab": {
          "base_uri": "https://localhost:8080/",
          "height": 159
        },
        "id": "RGLfagKRnZkU",
        "outputId": "97e27c20-90b9-4deb-fc8a-20048891117e"
      },
      "execution_count": null,
      "outputs": [
        {
          "output_type": "error",
          "ename": "NameError",
          "evalue": "name 'a12234' is not defined",
          "traceback": [
            "\u001b[0;31m---------------------------------------------------------------------------\u001b[0m",
            "\u001b[0;31mNameError\u001b[0m                                 Traceback (most recent call last)",
            "\u001b[0;32m<ipython-input-30-f2ceca84c3d2>\u001b[0m in \u001b[0;36m<cell line: 1>\u001b[0;34m()\u001b[0m\n\u001b[0;32m----> 1\u001b[0;31m \u001b[0mVar1_var2\u001b[0m \u001b[0;34m=\u001b[0m \u001b[0ma12234\u001b[0m\u001b[0;34m\u001b[0m\u001b[0;34m\u001b[0m\u001b[0m\n\u001b[0m\u001b[1;32m      2\u001b[0m \u001b[0mvar_11\u001b[0m \u001b[0;34m=\u001b[0m \u001b[0;36m123\u001b[0m\u001b[0;34m\u001b[0m\u001b[0;34m\u001b[0m\u001b[0m\n",
            "\u001b[0;31mNameError\u001b[0m: name 'a12234' is not defined"
          ]
        }
      ]
    },
    {
      "cell_type": "code",
      "source": [
        "@VAR_1234esrdfeegtdtftfttftd = 11223344\n",
        "var qertfr1 = rdytfdtf"
      ],
      "metadata": {
        "colab": {
          "base_uri": "https://localhost:8080/",
          "height": 106
        },
        "id": "0sWqykuunZnp",
        "outputId": "8de21915-6d83-4396-de06-250550283670"
      },
      "execution_count": null,
      "outputs": [
        {
          "output_type": "error",
          "ename": "SyntaxError",
          "evalue": "invalid syntax. Maybe you meant '==' or ':=' instead of '='? (<ipython-input-31-57e205d6ae92>, line 1)",
          "traceback": [
            "\u001b[0;36m  File \u001b[0;32m\"<ipython-input-31-57e205d6ae92>\"\u001b[0;36m, line \u001b[0;32m1\u001b[0m\n\u001b[0;31m    @VAR_1234esrdfeegtdtftfttftd = 11223344\u001b[0m\n\u001b[0m     ^\u001b[0m\n\u001b[0;31mSyntaxError\u001b[0m\u001b[0;31m:\u001b[0m invalid syntax. Maybe you meant '==' or ':=' instead of '='?\n"
          ]
        }
      ]
    },
    {
      "cell_type": "code",
      "source": [
        "VAR%123_ = 112342112\n",
        "varjhff_fwyf00u = erwe1e23"
      ],
      "metadata": {
        "colab": {
          "base_uri": "https://localhost:8080/",
          "height": 106
        },
        "id": "hAx7gsPGnZqS",
        "outputId": "6314b8b1-ab3f-4684-baf7-f44868524d05"
      },
      "execution_count": null,
      "outputs": [
        {
          "output_type": "error",
          "ename": "SyntaxError",
          "evalue": "invalid decimal literal (<ipython-input-32-8344222ee7ee>, line 1)",
          "traceback": [
            "\u001b[0;36m  File \u001b[0;32m\"<ipython-input-32-8344222ee7ee>\"\u001b[0;36m, line \u001b[0;32m1\u001b[0m\n\u001b[0;31m    VAR%123_ = 112342112\u001b[0m\n\u001b[0m           ^\u001b[0m\n\u001b[0;31mSyntaxError\u001b[0m\u001b[0;31m:\u001b[0m invalid decimal literal\n"
          ]
        }
      ]
    },
    {
      "cell_type": "code",
      "source": [
        "1Var_Var2_var_Q = 112233445566\n",
        "vae_ tdugtd- gf = q2343111"
      ],
      "metadata": {
        "colab": {
          "base_uri": "https://localhost:8080/",
          "height": 106
        },
        "id": "Vlu_mN1-nZ4S",
        "outputId": "468d43f5-b267-4448-e829-f9dfafcc5fe5"
      },
      "execution_count": null,
      "outputs": [
        {
          "output_type": "error",
          "ename": "SyntaxError",
          "evalue": "invalid decimal literal (<ipython-input-33-3000fab0bbf3>, line 1)",
          "traceback": [
            "\u001b[0;36m  File \u001b[0;32m\"<ipython-input-33-3000fab0bbf3>\"\u001b[0;36m, line \u001b[0;32m1\u001b[0m\n\u001b[0;31m    1Var_Var2_var_Q = 112233445566\u001b[0m\n\u001b[0m    ^\u001b[0m\n\u001b[0;31mSyntaxError\u001b[0m\u001b[0;31m:\u001b[0m invalid decimal literal\n"
          ]
        }
      ]
    },
    {
      "cell_type": "code",
      "source": [],
      "metadata": {
        "id": "xwcAP3ZinZ65"
      },
      "execution_count": null,
      "outputs": []
    }
  ]
}