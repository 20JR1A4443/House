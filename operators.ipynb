{
  "nbformat": 4,
  "nbformat_minor": 0,
  "metadata": {
    "colab": {
      "provenance": [],
      "authorship_tag": "ABX9TyPXmaEpORX5qayeB6ruqjGS",
      "include_colab_link": true
    },
    "kernelspec": {
      "name": "python3",
      "display_name": "Python 3"
    },
    "language_info": {
      "name": "python"
    }
  },
  "cells": [
    {
      "cell_type": "markdown",
      "metadata": {
        "id": "view-in-github",
        "colab_type": "text"
      },
      "source": [
        "<a href=\"https://colab.research.google.com/github/20JR1A4443/House/blob/main/operators.ipynb\" target=\"_parent\"><img src=\"https://colab.research.google.com/assets/colab-badge.svg\" alt=\"Open In Colab\"/></a>"
      ]
    },
    {
      "cell_type": "code",
      "execution_count": 5,
      "metadata": {
        "colab": {
          "base_uri": "https://localhost:8080/"
        },
        "id": "DEVeSAzilrj0",
        "outputId": "78e88202-d6a5-4f69-88f1-bbbef670af43"
      },
      "outputs": [
        {
          "output_type": "stream",
          "name": "stdout",
          "text": [
            "80\n"
          ]
        }
      ],
      "source": [
        "# Arithemetic operations\n",
        "# Addiction\n",
        "jai = 43\n",
        "sai = 37\n",
        "vivek =jai + sai\n",
        "print (vivek)"
      ]
    },
    {
      "cell_type": "code",
      "source": [
        "# subtraction\n",
        "jai = 43\n",
        "sai = 37\n",
        "aa = jai - sai\n",
        "print (aa)\n",
        ""
      ],
      "metadata": {
        "colab": {
          "base_uri": "https://localhost:8080/"
        },
        "id": "U-3ZNlhJnw60",
        "outputId": "75558c31-6709-46a8-85f2-d0892f24bc68"
      },
      "execution_count": 13,
      "outputs": [
        {
          "output_type": "stream",
          "name": "stdout",
          "text": [
            "6\n"
          ]
        }
      ]
    },
    {
      "cell_type": "code",
      "source": [
        "from re import S\n",
        "# multiplication\n",
        "j = 43\n",
        "s = 37\n",
        "v = j * s\n",
        "print (v)\n",
        "# Division\n",
        "a = j/s\n",
        "print(a)\n",
        "# moduls\n",
        "b = j%S\n",
        "print(b)\n",
        " # floor division\n",
        "c = j//S\n",
        "print (c)\n"
      ],
      "metadata": {
        "colab": {
          "base_uri": "https://localhost:8080/"
        },
        "id": "l8-CumkDo3Lz",
        "outputId": "886c39d0-1474-43be-eeb1-7f11302f0676"
      },
      "execution_count": 25,
      "outputs": [
        {
          "output_type": "stream",
          "name": "stdout",
          "text": [
            "1591\n",
            "1.162162162162162\n",
            "11\n",
            "2\n"
          ]
        }
      ]
    },
    {
      "cell_type": "code",
      "source": [
        "# assignment operators\n",
        "a = 9\n",
        "b = 4\n",
        "# addiction\n",
        "a += b\n",
        "print(a)\n",
        "# subtraction\n",
        "a -= b\n",
        "print(a)\n",
        "# multipication\n",
        "a *= b\n",
        "print(a)\n",
        "# division\n",
        "a /= b\n",
        "print(a)\n",
        "# remainder\n",
        "a %= b\n",
        "print(a)\n",
        "# exponent\n",
        "a **= b\n",
        "print(a)"
      ],
      "metadata": {
        "colab": {
          "base_uri": "https://localhost:8080/"
        },
        "id": "OYFklSQhqK9Q",
        "outputId": "cdd4eed6-fb86-473e-858d-42ae208be677"
      },
      "execution_count": 45,
      "outputs": [
        {
          "output_type": "stream",
          "name": "stdout",
          "text": [
            "13\n",
            "9\n",
            "36\n",
            "9.0\n",
            "1.0\n",
            "1.0\n"
          ]
        }
      ]
    },
    {
      "cell_type": "code",
      "source": [
        "# comparison operator\n",
        "# is equal to\n",
        "t= 000\n",
        "i= 000\n",
        "t==i"
      ],
      "metadata": {
        "colab": {
          "base_uri": "https://localhost:8080/"
        },
        "id": "vvyt-y7RsIpU",
        "outputId": "f5e2a119-51a4-48ff-8c85-f16be0e4a289"
      },
      "execution_count": 46,
      "outputs": [
        {
          "output_type": "execute_result",
          "data": {
            "text/plain": [
              "True"
            ]
          },
          "metadata": {},
          "execution_count": 46
        }
      ]
    },
    {
      "cell_type": "code",
      "source": [
        "# not equal to\n",
        "t= 10101\n",
        "i= 10100\n",
        "t!=i"
      ],
      "metadata": {
        "colab": {
          "base_uri": "https://localhost:8080/"
        },
        "id": "J2HqYqSUtIP8",
        "outputId": "fe377701-e56b-43d9-d602-6e7623e71c83"
      },
      "execution_count": 48,
      "outputs": [
        {
          "output_type": "execute_result",
          "data": {
            "text/plain": [
              "True"
            ]
          },
          "metadata": {},
          "execution_count": 48
        }
      ]
    },
    {
      "cell_type": "code",
      "source": [
        "# > Greater than\n",
        "t=99999\n",
        "i=00000\n",
        "t>i"
      ],
      "metadata": {
        "colab": {
          "base_uri": "https://localhost:8080/"
        },
        "id": "SHn9btTvtcvF",
        "outputId": "519eb83e-77a7-48d0-b7f6-d0e3244a69d6"
      },
      "execution_count": 49,
      "outputs": [
        {
          "output_type": "execute_result",
          "data": {
            "text/plain": [
              "True"
            ]
          },
          "metadata": {},
          "execution_count": 49
        }
      ]
    },
    {
      "cell_type": "code",
      "source": [
        "# < Less than\n",
        "t=99999\n",
        "i=900009\n",
        "t<i"
      ],
      "metadata": {
        "colab": {
          "base_uri": "https://localhost:8080/"
        },
        "id": "igQNm2KZtoqM",
        "outputId": "4f7dc516-d2f0-424b-a2f3-662192e46304"
      },
      "execution_count": 50,
      "outputs": [
        {
          "output_type": "execute_result",
          "data": {
            "text/plain": [
              "True"
            ]
          },
          "metadata": {},
          "execution_count": 50
        }
      ]
    },
    {
      "cell_type": "code",
      "source": [
        "# >= Greater than or equal to\n",
        "t=99999\n",
        "i=99999\n",
        "t>=i"
      ],
      "metadata": {
        "colab": {
          "base_uri": "https://localhost:8080/"
        },
        "id": "6ydg_axgt0HQ",
        "outputId": "b7d06e2e-af8b-46b7-c468-736710dd7f13"
      },
      "execution_count": 51,
      "outputs": [
        {
          "output_type": "execute_result",
          "data": {
            "text/plain": [
              "True"
            ]
          },
          "metadata": {},
          "execution_count": 51
        }
      ]
    },
    {
      "cell_type": "code",
      "source": [
        "# <= Less than or equal to\n",
        "t=99900\n",
        "i=99900\n",
        "t<=i"
      ],
      "metadata": {
        "colab": {
          "base_uri": "https://localhost:8080/"
        },
        "id": "38migjhluCOH",
        "outputId": "e1401a5c-2e2a-4e0a-d8cd-4883df7554a1"
      },
      "execution_count": 52,
      "outputs": [
        {
          "output_type": "execute_result",
          "data": {
            "text/plain": [
              "True"
            ]
          },
          "metadata": {},
          "execution_count": 52
        }
      ]
    },
    {
      "cell_type": "code",
      "source": [
        "# logical\n",
        "# AND\n",
        "A = 99\n",
        "B = 89\n",
        "print (A>B and B<A)"
      ],
      "metadata": {
        "colab": {
          "base_uri": "https://localhost:8080/"
        },
        "id": "P9qZHG7quNGc",
        "outputId": "906a5de9-c1c3-45e4-b174-5fe8ba322eb6"
      },
      "execution_count": 53,
      "outputs": [
        {
          "output_type": "stream",
          "name": "stdout",
          "text": [
            "True\n"
          ]
        }
      ]
    },
    {
      "cell_type": "code",
      "source": [
        "# OR\n"
      ],
      "metadata": {
        "id": "Koi5AAZ-uxXy"
      },
      "execution_count": 54,
      "outputs": []
    },
    {
      "cell_type": "code",
      "source": [
        "A = 99\n",
        "B = 89\n",
        "print (A>B or B>A)"
      ],
      "metadata": {
        "colab": {
          "base_uri": "https://localhost:8080/"
        },
        "id": "Nnl8EKF-uzLI",
        "outputId": "3c8bd3cb-d3ce-4150-a2c3-bf7ea366efcb"
      },
      "execution_count": 56,
      "outputs": [
        {
          "output_type": "stream",
          "name": "stdout",
          "text": [
            "True\n"
          ]
        }
      ]
    },
    {
      "cell_type": "code",
      "source": [
        "# NOT\n",
        "x = 99\n",
        "print(not(x>50&x<100))"
      ],
      "metadata": {
        "colab": {
          "base_uri": "https://localhost:8080/"
        },
        "id": "Rlk1vIhJvFBL",
        "outputId": "56bfbcc2-dd2b-44f9-d3f2-818b58700029"
      },
      "execution_count": 59,
      "outputs": [
        {
          "output_type": "stream",
          "name": "stdout",
          "text": [
            "False\n"
          ]
        }
      ]
    },
    {
      "cell_type": "code",
      "source": [
        "# Identity\n",
        "csk = \"win\"\n",
        "jai = \"win\"\n",
        "a = csk is jai\n",
        "print(a)"
      ],
      "metadata": {
        "colab": {
          "base_uri": "https://localhost:8080/"
        },
        "id": "5zgcz6vSyHN7",
        "outputId": "261b021b-38cc-4a65-85b5-17457478470e"
      },
      "execution_count": 60,
      "outputs": [
        {
          "output_type": "stream",
          "name": "stdout",
          "text": [
            "True\n"
          ]
        }
      ]
    },
    {
      "cell_type": "code",
      "source": [
        "csk = \"win\"\n",
        "jai = \"loss\"\n",
        "a = csk is not jai\n",
        "print(a)"
      ],
      "metadata": {
        "colab": {
          "base_uri": "https://localhost:8080/"
        },
        "id": "_iD9Pq7AyG8P",
        "outputId": "f12d4b82-6598-4705-fb1c-c239f9aa7114"
      },
      "execution_count": 61,
      "outputs": [
        {
          "output_type": "stream",
          "name": "stdout",
          "text": [
            "True\n"
          ]
        }
      ]
    },
    {
      "cell_type": "code",
      "source": [
        "# Membership\n",
        "cricket=['dhoni','raina','bolt']\n",
        "ipl=['virat','dhoni','jai']\n",
        "print('dhoni' in ipl)\n",
        "print('virat' not in cricket)"
      ],
      "metadata": {
        "colab": {
          "base_uri": "https://localhost:8080/"
        },
        "id": "wIWbPLWHzahQ",
        "outputId": "eb2b7068-e5ba-48aa-ecd0-57924a41d091"
      },
      "execution_count": 62,
      "outputs": [
        {
          "output_type": "stream",
          "name": "stdout",
          "text": [
            "True\n",
            "True\n"
          ]
        }
      ]
    }
  ]
}