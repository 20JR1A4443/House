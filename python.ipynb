{
  "nbformat": 4,
  "nbformat_minor": 0,
  "metadata": {
    "colab": {
      "provenance": [],
      "gpuType": "T4",
      "authorship_tag": "ABX9TyN73NrZOCHkj+/yj3+1qveO",
      "include_colab_link": true
    },
    "kernelspec": {
      "name": "python3",
      "display_name": "Python 3"
    },
    "language_info": {
      "name": "python"
    },
    "accelerator": "GPU"
  },
  "cells": [
    {
      "cell_type": "markdown",
      "metadata": {
        "id": "view-in-github",
        "colab_type": "text"
      },
      "source": [
        "<a href=\"https://colab.research.google.com/github/20JR1A4443/House/blob/main/python.ipynb\" target=\"_parent\"><img src=\"https://colab.research.google.com/assets/colab-badge.svg\" alt=\"Open In Colab\"/></a>"
      ]
    },
    {
      "cell_type": "code",
      "execution_count": null,
      "metadata": {
        "id": "bF16bMmJrP-L"
      },
      "outputs": [],
      "source": []
    },
    {
      "cell_type": "code",
      "source": [
        "from google.colab import drive\n",
        "drive.mount('/content/drive')"
      ],
      "metadata": {
        "colab": {
          "base_uri": "https://localhost:8080/"
        },
        "id": "OU7Ap2lRrpD1",
        "outputId": "59561eea-53c4-453c-c38b-08d8cf950755"
      },
      "execution_count": null,
      "outputs": [
        {
          "output_type": "stream",
          "name": "stdout",
          "text": [
            "Mounted at /content/drive\n"
          ]
        }
      ]
    },
    {
      "cell_type": "code",
      "source": [
        "a = 4\n",
        "b = 7\n",
        "c = a+b\n",
        "print(c)"
      ],
      "metadata": {
        "colab": {
          "base_uri": "https://localhost:8080/"
        },
        "id": "yXgtETYJuItN",
        "outputId": "73ba89c5-2e24-4693-abd4-7788896f13c6"
      },
      "execution_count": null,
      "outputs": [
        {
          "output_type": "stream",
          "name": "stdout",
          "text": [
            "11\n"
          ]
        }
      ]
    },
    {
      "cell_type": "code",
      "source": [
        "# python variable\n",
        "a = 43\n",
        "print (a)\n"
      ],
      "metadata": {
        "id": "917rjXjEuaay",
        "colab": {
          "base_uri": "https://localhost:8080/"
        },
        "outputId": "e478f9b9-1ec6-4a53-b592-ba558692af45"
      },
      "execution_count": null,
      "outputs": [
        {
          "output_type": "stream",
          "name": "stdout",
          "text": [
            "43\n"
          ]
        }
      ]
    },
    {
      "cell_type": "code",
      "source": [
        "# multiple variable\n",
        "jai,vijai,jaya = \"iaj\",\"iajiv\",\"ayaj\"\n",
        "print(jai)\n",
        "print(vijai)\n",
        "print(jaya)"
      ],
      "metadata": {
        "colab": {
          "base_uri": "https://localhost:8080/"
        },
        "id": "VY43C97xIOJH",
        "outputId": "d24c9a88-706e-4a97-ff18-1f82067ae362"
      },
      "execution_count": null,
      "outputs": [
        {
          "output_type": "stream",
          "name": "stdout",
          "text": [
            "iaj\n",
            "iajiv\n",
            "ayaj\n"
          ]
        }
      ]
    },
    {
      "cell_type": "code",
      "source": [
        "j=a=i = 4443\n",
        "print(j)\n",
        "print(a)\n",
        "print(i)"
      ],
      "metadata": {
        "colab": {
          "base_uri": "https://localhost:8080/"
        },
        "id": "lJWqWFS4JNjv",
        "outputId": "75cf791d-fcd7-4661-b0f2-fa56278397cf"
      },
      "execution_count": null,
      "outputs": [
        {
          "output_type": "stream",
          "name": "stdout",
          "text": [
            "4443\n",
            "4443\n",
            "4443\n"
          ]
        }
      ]
    },
    {
      "cell_type": "code",
      "source": [
        "# Data types\n",
        "# python numbers\n",
        "Var1 = 143\n",
        "Var2 = 44.43\n",
        "Var3 = 4443j\n",
        "print(type(Var1))\n",
        "print(type(Var2))\n",
        "print(type(Var3))"
      ],
      "metadata": {
        "colab": {
          "base_uri": "https://localhost:8080/"
        },
        "id": "kJHNEs7-J5Uh",
        "outputId": "d7aeb124-ee59-4d5a-902a-0d88dca4a6e2"
      },
      "execution_count": null,
      "outputs": [
        {
          "output_type": "stream",
          "name": "stdout",
          "text": [
            "<class 'int'>\n",
            "<class 'float'>\n",
            "<class 'complex'>\n"
          ]
        }
      ]
    },
    {
      "cell_type": "code",
      "source": [
        "# Type conversion\n",
        "jai1 = 2002\n",
        "jai2 = 20.02\n",
        "jai3 = 28j\n",
        "# convert from int to float:\n",
        "a = float (jai1)\n",
        "# convert from float to int:\n",
        "b = int (jai2)\n",
        "# convert from int to complex:\n",
        "c = complex (jai1)\n",
        "d = complex (jai2)\n",
        "print(a)\n",
        "print(b)\n",
        "print(c)\n",
        "print(d)"
      ],
      "metadata": {
        "colab": {
          "base_uri": "https://localhost:8080/"
        },
        "id": "ZoLyY1jbNYTf",
        "outputId": "15711044-585f-4495-fc65-4ad464ee19ac"
      },
      "execution_count": null,
      "outputs": [
        {
          "output_type": "stream",
          "name": "stdout",
          "text": [
            "2002.0\n",
            "20\n",
            "(2002+0j)\n",
            "(20.02+0j)\n"
          ]
        }
      ]
    },
    {
      "cell_type": "code",
      "source": [
        "Var = 8j\n",
        "a = float (Var)"
      ],
      "metadata": {
        "colab": {
          "base_uri": "https://localhost:8080/",
          "height": 159
        },
        "id": "ne8RPneBRCBB",
        "outputId": "e4426a47-a92d-4ae0-c90d-4e3af9e44b3b"
      },
      "execution_count": null,
      "outputs": [
        {
          "output_type": "error",
          "ename": "TypeError",
          "evalue": "float() argument must be a string or a real number, not 'complex'",
          "traceback": [
            "\u001b[0;31m---------------------------------------------------------------------------\u001b[0m",
            "\u001b[0;31mTypeError\u001b[0m                                 Traceback (most recent call last)",
            "\u001b[0;32m<ipython-input-24-1f6c3cf821f7>\u001b[0m in \u001b[0;36m<cell line: 2>\u001b[0;34m()\u001b[0m\n\u001b[1;32m      1\u001b[0m \u001b[0mVar\u001b[0m \u001b[0;34m=\u001b[0m \u001b[0;36m8j\u001b[0m\u001b[0;34m\u001b[0m\u001b[0;34m\u001b[0m\u001b[0m\n\u001b[0;32m----> 2\u001b[0;31m \u001b[0ma\u001b[0m \u001b[0;34m=\u001b[0m \u001b[0mfloat\u001b[0m \u001b[0;34m(\u001b[0m\u001b[0mVar\u001b[0m\u001b[0;34m)\u001b[0m\u001b[0;34m\u001b[0m\u001b[0;34m\u001b[0m\u001b[0m\n\u001b[0m",
            "\u001b[0;31mTypeError\u001b[0m: float() argument must be a string or a real number, not 'complex'"
          ]
        }
      ]
    },
    {
      "cell_type": "code",
      "source": [
        "# Python Boolen\n",
        "print ( 28 > 2)\n",
        "print ( 19 == 19)\n",
        "print ( 9 < 6)\n"
      ],
      "metadata": {
        "colab": {
          "base_uri": "https://localhost:8080/"
        },
        "id": "OV28wYLvSLR2",
        "outputId": "695eafc4-4eda-45cb-e3b9-8ec2f521bfbb"
      },
      "execution_count": null,
      "outputs": [
        {
          "output_type": "stream",
          "name": "stdout",
          "text": [
            "True\n",
            "True\n",
            "False\n"
          ]
        }
      ]
    },
    {
      "cell_type": "code",
      "source": [
        "print(bool(1.98))\n",
        "print(bool(00))"
      ],
      "metadata": {
        "colab": {
          "base_uri": "https://localhost:8080/"
        },
        "id": "ol0m8LLATNyO",
        "outputId": "333db717-3689-4579-99e5-0497899d6422"
      },
      "execution_count": null,
      "outputs": [
        {
          "output_type": "stream",
          "name": "stdout",
          "text": [
            "True\n",
            "False\n"
          ]
        }
      ]
    }
  ]
}